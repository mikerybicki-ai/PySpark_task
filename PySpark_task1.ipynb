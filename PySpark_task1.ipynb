{
 "cells": [
  {
   "cell_type": "code",
   "execution_count": 74,
   "id": "2c57d8ef",
   "metadata": {},
   "outputs": [],
   "source": [
    "# Michał Rybicki - PySpark Task_1\n",
    "import findspark\n",
    "findspark.init()\n"
   ]
  },
  {
   "cell_type": "code",
   "execution_count": 81,
   "id": "6fdb18f9",
   "metadata": {},
   "outputs": [],
   "source": [
    "import pyspark\n",
    "from pyspark.sql import SparkSession\n",
    "from pyspark.sql import functions as func\n",
    "from pyspark.sql.types import StructType, StructField, IntegerType, StringType, BooleanType, FloatType, DecimalType"
   ]
  },
  {
   "cell_type": "code",
   "execution_count": 82,
   "id": "147c30b2",
   "metadata": {},
   "outputs": [],
   "source": [
    "spark = SparkSession.builder.appName(\"Task1\").getOrCreate()"
   ]
  },
  {
   "cell_type": "code",
   "execution_count": 83,
   "id": "fa84983c",
   "metadata": {},
   "outputs": [],
   "source": [
    "schema = StructType([\n",
    "      #StructField(\"_id\",StringType(),True),\n",
    "      #StructField(\"index\",IntegerType(),True),\n",
    "      #StructField(\"guid\",StringType(),True),\n",
    "      #StructField(\"isActive\",BooleanType(),True),\n",
    "      StructField(\"balance\",StringType(),True),\n",
    "      #StructField(\"picture\",StringType(),True),\n",
    "      #StructField(\"age\",IntegerType(),True),\n",
    "      #StructField(\"eyeColor\",StringType(),True),\n",
    "      #StructField(\"name\",StringType(),True),\n",
    "      StructField(\"gender\",StringType(),True),\n",
    "      #StructField(\"company\",StringType(),True),\n",
    "      #StructField(\"email\",StringType(),True),\n",
    "      #StructField(\"phone\",StringType(),True),\n",
    "      #StructField(\"address\",StringType(),True),\n",
    "      #StructField(\"about\",StringType(),True),\n",
    "      #StructField(\"registered\",StringType(),True),\n",
    "      #StructField(\"latitude\",FloatType(),True),\n",
    "      #StructField(\"longitude\",FloatType(),True),\n",
    "      #StructField(\"tags\",StringType(),True),\n",
    "      #StructField(\"friends\", StringType(), True), \n",
    "      #StructField(\"greeting\", StringType(), True),\n",
    "      #StructField(\"favoriteFruit\", StringType(), True)\n",
    "\n",
    "  ])"
   ]
  },
  {
   "cell_type": "code",
   "execution_count": 84,
   "id": "795549ab",
   "metadata": {},
   "outputs": [
    {
     "name": "stdout",
     "output_type": "stream",
     "text": [
      "+---------+------+\n",
      "|  balance|gender|\n",
      "+---------+------+\n",
      "|$1,232.31|  male|\n",
      "|$2,920.66|female|\n",
      "|$1,819.72|female|\n",
      "|$1,571.09|female|\n",
      "|$1,178.43|female|\n",
      "|$1,952.92|  male|\n",
      "|$3,020.16|  male|\n",
      "|$2,574.66|  male|\n",
      "|$3,864.22|female|\n",
      "|$3,008.74|female|\n",
      "|$1,919.67|  male|\n",
      "|$2,093.91|female|\n",
      "|$2,840.60|female|\n",
      "|$2,710.73|  male|\n",
      "|$3,397.90|  male|\n",
      "|$1,698.71|  male|\n",
      "|$1,721.10|female|\n",
      "|$2,213.65|female|\n",
      "|$1,585.90|  male|\n",
      "|$1,401.08|  male|\n",
      "+---------+------+\n",
      "only showing top 20 rows\n",
      "\n"
     ]
    }
   ],
   "source": [
    "df = spark.read.schema(schema).json(\"file:///SparkCourse/data_task1.json\", multiLine=True)\n",
    "df.show()"
   ]
  },
  {
   "cell_type": "code",
   "execution_count": 85,
   "id": "1afdad91",
   "metadata": {
    "scrolled": true
   },
   "outputs": [
    {
     "name": "stdout",
     "output_type": "stream",
     "text": [
      "+---------+------+-----------+\n",
      "|  balance|gender|new_balance|\n",
      "+---------+------+-----------+\n",
      "|$1,232.31|  male|    1232.31|\n",
      "|$2,920.66|female|    2920.66|\n",
      "|$1,819.72|female|    1819.72|\n",
      "|$1,571.09|female|    1571.09|\n",
      "|$1,178.43|female|    1178.43|\n",
      "|$1,952.92|  male|    1952.92|\n",
      "|$3,020.16|  male|    3020.16|\n",
      "|$2,574.66|  male|    2574.66|\n",
      "|$3,864.22|female|    3864.22|\n",
      "|$3,008.74|female|    3008.74|\n",
      "|$1,919.67|  male|    1919.67|\n",
      "|$2,093.91|female|    2093.91|\n",
      "|$2,840.60|female|     2840.6|\n",
      "|$2,710.73|  male|    2710.73|\n",
      "|$3,397.90|  male|     3397.9|\n",
      "|$1,698.71|  male|    1698.71|\n",
      "|$1,721.10|female|     1721.1|\n",
      "|$2,213.65|female|    2213.65|\n",
      "|$1,585.90|  male|     1585.9|\n",
      "|$1,401.08|  male|    1401.08|\n",
      "+---------+------+-----------+\n",
      "only showing top 20 rows\n",
      "\n"
     ]
    }
   ],
   "source": [
    "df1 = (df\n",
    "       .withColumn(\"new_balance\", func.substring(func.col(\"balance\"), 2, 10))\n",
    "       .withColumn(\"new_balance\", func.regexp_replace(func.col(\"new_balance\"),\",\", \"\"))\n",
    "       .withColumn(\"new_balance\", func.col(\"new_balance\").cast(FloatType())))\n",
    "df1.show()"
   ]
  },
  {
   "cell_type": "code",
   "execution_count": 86,
   "id": "ae750a53",
   "metadata": {},
   "outputs": [
    {
     "name": "stdout",
     "output_type": "stream",
     "text": [
      "+------+---------------+\n",
      "|gender|sum_of_balanced|\n",
      "+------+---------------+\n",
      "|female|      113979.79|\n",
      "|  male|      124797.55|\n",
      "+------+---------------+\n",
      "\n"
     ]
    }
   ],
   "source": [
    "df2 = df1.groupBy(\"gender\").agg(func.round(func.sum(\"new_balance\"), 2).alias(\"sum_of_balanced\"))\n",
    "df2.show()"
   ]
  },
  {
   "cell_type": "code",
   "execution_count": null,
   "id": "2e7fc481",
   "metadata": {},
   "outputs": [],
   "source": []
  }
 ],
 "metadata": {
  "kernelspec": {
   "display_name": "Python 3 (ipykernel)",
   "language": "python",
   "name": "python3"
  },
  "language_info": {
   "codemirror_mode": {
    "name": "ipython",
    "version": 3
   },
   "file_extension": ".py",
   "mimetype": "text/x-python",
   "name": "python",
   "nbconvert_exporter": "python",
   "pygments_lexer": "ipython3",
   "version": "3.10.9"
  }
 },
 "nbformat": 4,
 "nbformat_minor": 5
}
